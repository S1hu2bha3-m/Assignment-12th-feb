{
 "cells": [
  {
   "cell_type": "markdown",
   "id": "5b8a53ae-1a0c-4160-aa52-91cbcbc71af5",
   "metadata": {},
   "source": [
    "Q1. What is an Exception in python? Write the difference between Exceptions and Syntax Errors."
   ]
  },
  {
   "cell_type": "markdown",
   "id": "6e0d1bb6-58d8-4fb8-ad67-e2961600271f",
   "metadata": {},
   "source": [
    "Ans. In Python, an exception is a type of error that occurs during the execution of a program. When an exception occurs, the normal flow of the program is disrupted, and the interpreter tries to find a way to handle the exception and continue the program's execution. Exceptions are a way for programmers to deal with unexpected situations and errors that might occur during program execution.\n",
    "The main difference between exceptions and syntax errors is that exceptions occur during program execution when unexpected situations arise, while syntax errors occur during compilation when there is an issue with the code's structure."
   ]
  },
  {
   "cell_type": "markdown",
   "id": "874a3085-50e9-4064-993f-56f1a6104a54",
   "metadata": {},
   "source": [
    "Q2. What happens when an exception is not handled? Explain with an example."
   ]
  },
  {
   "cell_type": "markdown",
   "id": "5828b848-6407-457a-925e-854764f620db",
   "metadata": {},
   "source": [
    "Ans. When an exception is not handled, the program will terminate abruptly with an error message indicating the type of exception that occurred and the line number where it occurred. This is called an unhandled exception, and it can be problematic because it can leave the program in an unpredictable state and potentially cause data loss or corruption.\n",
    "\n",
    "Example:\n",
    "\n",
    "try:\n",
    "    num1 = int(input(\"Enter a number: \"))\n",
    "    num2 = int(input(\"Enter another number: \"))\n",
    "    result = num1 / num2\n",
    "    print(\"The result is: \", result)\n",
    "except ValueError:\n",
    "    print(\"Invalid input. Please enter a number.\")\n"
   ]
  },
  {
   "cell_type": "markdown",
   "id": "2a63809d-cf4c-4024-8cd2-d98717fb5b84",
   "metadata": {},
   "source": [
    "Q3. Which Python statements are used to catch and handled exceptions? Explain with an example."
   ]
  },
  {
   "cell_type": "markdown",
   "id": "3c1fc7f6-c3d2-491e-8650-95dd0a5083ad",
   "metadata": {},
   "source": [
    "Ans. In Python, we can use the try and except statements to catch and handle exceptions.\n",
    "\n",
    "The try block contains the code that might raise an exception, and the except block contains the code to handle the exception if it occurs. If an exception is raised in the try block, the interpreter jumps to the except block and executes the code there.\n",
    "\n",
    "Example:\n",
    "\n",
    "try:\n",
    "    num1 = int(input(\"Enter a number: \"))\n",
    "    num2 = int(input(\"Enter another number: \"))\n",
    "    result = num1 / num2\n",
    "    print(\"The result is: \", result)\n",
    "except ValueError:\n",
    "    print(\"Invalid input. Please enter a number.\")\n",
    "except ZeroDivisionError:\n",
    "    print(\"Cannot divide by zero.\")\n"
   ]
  },
  {
   "cell_type": "markdown",
   "id": "f5d853e7-e2c4-41ce-af84-7fd8802848c9",
   "metadata": {},
   "source": [
    "Q4. Explain with an example:\n",
    "    a. try and else\n",
    "    b. finally\n",
    "    c. raise"
   ]
  },
  {
   "cell_type": "markdown",
   "id": "9830f9f0-a47f-4a3b-ad0b-c09e163db2f8",
   "metadata": {},
   "source": [
    "Ans. a. try and else:\n",
    "In addition to the except block, we can also use an else block with a try statement. The else block is executed if no exception is raised in the try block. "
   ]
  },
  {
   "cell_type": "code",
   "execution_count": 1,
   "id": "7b4b6373-944d-418c-b92d-676a18d9c63d",
   "metadata": {},
   "outputs": [
    {
     "name": "stdin",
     "output_type": "stream",
     "text": [
      "Enter a number:  1\n",
      "Enter another number:  0\n"
     ]
    },
    {
     "name": "stdout",
     "output_type": "stream",
     "text": [
      "Cannot divide by zero.\n"
     ]
    }
   ],
   "source": [
    "try:\n",
    "    num1 = int(input(\"Enter a number: \"))\n",
    "    num2 = int(input(\"Enter another number: \"))\n",
    "    result = num1 / num2\n",
    "except ValueError:\n",
    "    print(\"Invalid input. Please enter a number.\")\n",
    "except ZeroDivisionError:\n",
    "    print(\"Cannot divide by zero.\")\n",
    "else:\n",
    "    print(\"The result is: \", result)\n"
   ]
  },
  {
   "cell_type": "markdown",
   "id": "97f227da-e4f3-44bc-b940-6b4d155f2c62",
   "metadata": {},
   "source": [
    "b. finally:\n",
    "The finally block is always executed, regardless of whether an exception was raised or not."
   ]
  },
  {
   "cell_type": "code",
   "execution_count": null,
   "id": "eaffbb91-284c-42ba-ad1c-ac717647d343",
   "metadata": {},
   "outputs": [],
   "source": [
    "try:\n",
    "    f = open(\"test.txt\", \"r\")\n",
    "    f.write(\"Hello, World!\")\n",
    "except IOError:\n",
    "    print(\"An error occurred while writing to the file.\")\n",
    "finally:\n",
    "    f.close()\n"
   ]
  },
  {
   "cell_type": "markdown",
   "id": "5b41c035-7937-408b-b6df-d3f7c3c18671",
   "metadata": {},
   "source": [
    "c. raise:\n",
    "We can use the raise statement to raise an exception manually."
   ]
  },
  {
   "cell_type": "code",
   "execution_count": null,
   "id": "8d16b932-6002-4ade-9948-24abeb132398",
   "metadata": {},
   "outputs": [],
   "source": [
    "def divide(num1, num2):\n",
    "    if num2 == 0:\n",
    "        raise ValueError(\"Cannot divide by zero.\")\n",
    "    else:\n",
    "        return num1 / num2\n",
    "\n",
    "try:\n",
    "    result = divide(10, 0)\n",
    "except ValueError as e:\n",
    "    print(e)\n"
   ]
  },
  {
   "cell_type": "markdown",
   "id": "61e25178-1ee1-447c-9041-b02fcc7f0e27",
   "metadata": {},
   "source": [
    "Q5. What are Custom Exceptions in python? Why do we need Custom Exceptions? Explain with an example."
   ]
  },
  {
   "cell_type": "markdown",
   "id": "c8eeb770-91eb-44ca-a165-4545de7a9afc",
   "metadata": {},
   "source": [
    "Ans. Custom exceptions are user-defined exceptions in Python. We can create our own exceptions by defining a new class that inherits from the built-in Exception class or any of its subclasses. Custom exceptions allow us to raise exceptions that are more meaningful and specific to our program or application.\n",
    "\n",
    "We need custom exceptions to provide more meaningful and descriptive error messages to users or developers. They help to identify specific errors and make debugging and troubleshooting easier."
   ]
  },
  {
   "cell_type": "code",
   "execution_count": 2,
   "id": "05a40123-c0cd-4763-89f1-6034dc8f2401",
   "metadata": {},
   "outputs": [
    {
     "name": "stdout",
     "output_type": "stream",
     "text": [
      "Both numbers must be positive.\n"
     ]
    }
   ],
   "source": [
    "class InvalidInputError(Exception):\n",
    "    \"\"\"Exception raised when the input is invalid\"\"\"\n",
    "    pass\n",
    "\n",
    "def divide(num1, num2):\n",
    "    if num2 == 0:\n",
    "        raise ZeroDivisionError(\"Cannot divide by zero.\")\n",
    "    elif num1 < 0 or num2 < 0:\n",
    "        raise InvalidInputError(\"Both numbers must be positive.\")\n",
    "    else:\n",
    "        return num1 / num2\n",
    "\n",
    "try:\n",
    "    result = divide(-10, 5)\n",
    "except ZeroDivisionError as e:\n",
    "    print(e)\n",
    "except InvalidInputError as e:\n",
    "    print(e)\n"
   ]
  },
  {
   "cell_type": "markdown",
   "id": "868a487e-ce11-4bcb-8120-211f86f5665f",
   "metadata": {},
   "source": [
    "Q5. Create a custom exception class. Use this class to handle an exception."
   ]
  },
  {
   "cell_type": "markdown",
   "id": "141d65b2-b9a3-4938-ab4b-e9587d83c5d1",
   "metadata": {},
   "source": [
    "Ans. Sure, here's an example of creating a custom exception class and using it to handle an exception:"
   ]
  },
  {
   "cell_type": "code",
   "execution_count": 3,
   "id": "519b1f45-530e-40d1-8a61-0e0b6a1a7021",
   "metadata": {},
   "outputs": [
    {
     "name": "stdin",
     "output_type": "stream",
     "text": [
      "Enter your age:  34\n"
     ]
    },
    {
     "name": "stdout",
     "output_type": "stream",
     "text": [
      "Your age is:  34\n"
     ]
    }
   ],
   "source": [
    "class InvalidAgeException(Exception):\n",
    "    \"\"\"Exception raised when the age is invalid\"\"\"\n",
    "    pass\n",
    "\n",
    "def get_user_age():\n",
    "    age = int(input(\"Enter your age: \"))\n",
    "    if age < 0 or age > 120:\n",
    "        raise InvalidAgeException(\"Invalid age entered.\")\n",
    "    return age\n",
    "\n",
    "try:\n",
    "    age = get_user_age()\n",
    "    print(\"Your age is: \", age)\n",
    "except InvalidAgeException as e:\n",
    "    print(\"Error:\", e)\n"
   ]
  },
  {
   "cell_type": "code",
   "execution_count": null,
   "id": "438bc0da-b17f-45d1-ac0c-dcaf93b9ea02",
   "metadata": {},
   "outputs": [],
   "source": []
  }
 ],
 "metadata": {
  "kernelspec": {
   "display_name": "Python 3 (ipykernel)",
   "language": "python",
   "name": "python3"
  },
  "language_info": {
   "codemirror_mode": {
    "name": "ipython",
    "version": 3
   },
   "file_extension": ".py",
   "mimetype": "text/x-python",
   "name": "python",
   "nbconvert_exporter": "python",
   "pygments_lexer": "ipython3",
   "version": "3.10.8"
  }
 },
 "nbformat": 4,
 "nbformat_minor": 5
}
